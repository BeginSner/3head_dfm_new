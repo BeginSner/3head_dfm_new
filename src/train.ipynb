{
 "cells": [
  {
   "cell_type": "code",
   "execution_count": 1,
   "outputs": [],
   "source": [
    "import torch\n",
    "import numpy as np\n",
    "import pandas as pd\n",
    "import os\n",
    "\n",
    "name = \"criteo\"\n",
    "data_dir = \"../data\"\n",
    "data_set_dir = os.path.join(data_dir, name)\n",
    "data_set_dir = os.path.join(data_set_dir, \"data.txt\")\n",
    "df = pd.read_csv(data_set_dir, sep=\"\\t\", header=None)\n",
    "click_ts = df[df.columns[0]].to_numpy()\n",
    "pay_ts = df[df.columns[1]].fillna(-1).to_numpy()\n",
    "df = df[df.columns[2:]]\n",
    "df.iloc[:,8:] = df.iloc[:,8:].fillna(\"\").astype(str)\n",
    "df.iloc[:,:8] = df.iloc[:,:8].fillna(-1).apply(lambda x: (x - x.min()) / (x.max() - x.min()))\n",
    "df.rename(columns={col: str(col-2) for col in df.columns}, inplace=True)"
   ],
   "metadata": {
    "collapsed": false,
    "pycharm": {
     "name": "#%%\n"
    }
   }
  },
  {
   "cell_type": "code",
   "execution_count": 2,
   "outputs": [
    {
     "name": "stdout",
     "output_type": "stream",
     "text": [
      "15898883\n"
     ]
    }
   ],
   "source": [
    "import sys\n",
    "from scipy.sparse import hstack, csr_matrix\n",
    "from sklearn.preprocessing import LabelEncoder\n",
    "import torch.nn.functional as F\n",
    "num_bin_size = (64, 16, 128, 64, 128, 64, 512, 512)\n",
    "cate_bin_size = (512, 128, 256, 256, 64, 256, 256, 16, 256)\n",
    "\n",
    "def one_hot_encoding_sparse(indices, num_classes):\n",
    "    row_index = torch.arange(indices.size(0))\n",
    "    indices = torch.vstack((row_index, indices))\n",
    "    values = torch.ones(indices.size(0), dtype=torch.int8)\n",
    "    one_hot_sparse = torch.sparse_coo_tensor(indices, values, (indices.size(0), num_classes))\n",
    "    return one_hot_sparse\n",
    "\n",
    "def one_hot_encoding(indices, num_classes):\n",
    "    one_hot = torch.zeros((indices.size(0), num_classes), dtype=torch.int8)\n",
    "    one_hot.scatter_(1, indices.unsqueeze(1), 1)\n",
    "    return one_hot\n",
    "\n",
    "def one_hot_encoding_sparse_np(indices, num_classes):\n",
    "    row_index = np.arange(indices.shape[0])\n",
    "    data = np.ones(indices.shape[0])\n",
    "    one_hot_sparse = csr_matrix((data, (row_index, indices)), shape=(indices.shape[0], num_classes))\n",
    "    return one_hot_sparse\n",
    "\n",
    "numerical_emb_concat = None\n",
    "for i in range(0, 8):\n",
    "    feat = df.iloc[:, i].values\n",
    "    # Scale feature values to the range [0, num_bin_size[i]-1]\n",
    "    scaled_feat = (feat * (num_bin_size[i]-1)).astype(int)\n",
    "    dummy_matrix = one_hot_encoding_sparse_np(scaled_feat, num_bin_size[i])\n",
    "    if numerical_emb_concat is None:\n",
    "        numerical_emb_concat = dummy_matrix\n",
    "    else:\n",
    "        numerical_emb_concat = hstack((numerical_emb_concat, dummy_matrix))\n",
    "\n",
    "# Concatenate one-hot encoded tensors along the second dimension (columns)\n",
    "encoder = LabelEncoder()\n",
    "for i in range(8, 17):\n",
    "    feat = df.iloc[:, i]\n",
    "    feat = encoder.fit_transform(feat)\n",
    "    scaled_feat = ((feat - feat.min()) / (feat.max() - feat.min()) * (cate_bin_size[i - 8]-1)).astype(int)\n",
    "    dummy_matrix = one_hot_encoding_sparse_np(scaled_feat, cate_bin_size[i - 8])\n",
    "    if numerical_emb_concat is None:\n",
    "        numerical_emb_concat = dummy_matrix\n",
    "    else:\n",
    "        numerical_emb_concat = hstack((numerical_emb_concat, dummy_matrix))\n",
    "\n",
    "x = numerical_emb_concat.astype(bool)\n",
    "num_sample = x.shape[0]\n",
    "x = x.toarray()\n",
    "print(num_sample)"
   ],
   "metadata": {
    "collapsed": false,
    "pycharm": {
     "name": "#%%\n"
    }
   }
  },
  {
   "cell_type": "code",
   "execution_count": 3,
   "outputs": [
    {
     "name": "stdout",
     "output_type": "stream",
     "text": [
      "99"
     ]
    }
   ],
   "source": [
    "import math\n",
    "import const\n",
    "# def linear_regression(x, input_dim, output_dim, batch_size=128):\n",
    "#     # x: numpy\n",
    "#\n",
    "#     num_samples = x.shape[0]\n",
    "#     num_batches = math.ceil(num_samples / batch_size)\n",
    "#\n",
    "#     # Convert x to a PyTorch tensor\n",
    "#     x_tensor = torch.from_numpy(x).float()\n",
    "#\n",
    "#     bn = torch.nn.BatchNorm1d(input_dim).cuda()\n",
    "#     p_linear = torch.nn.Linear(input_dim, output_dim).cuda()\n",
    "#\n",
    "#     # Placeholder for output tensor\n",
    "#     p = torch.zeros(num_samples, output_dim)\n",
    "#\n",
    "#     for batch_idx in range(num_batches):\n",
    "#         # Get the start and end indices for the current batch\n",
    "#         start_idx = batch_idx * batch_size\n",
    "#         end_idx = min(start_idx + batch_size, num_samples)\n",
    "#\n",
    "#         # Load the batch to GPU\n",
    "#         x_batch = x_tensor[start_idx:end_idx].cuda()\n",
    "#\n",
    "#         # Process the batch\n",
    "#         x_batch = bn(x_batch)\n",
    "#         p_batch = p_linear(x_batch)\n",
    "#         p_batch = torch.sigmoid(p_batch)\n",
    "#\n",
    "#         # Store the batch output in the placeholder tensor\n",
    "#         p[start_idx:end_idx] = p_batch.cpu().detach()\n",
    "#\n",
    "#     p = p.numpy().reshape(-1)\n",
    "#     return p\n",
    "def linear_regression(x, input_dim, output_dim):\n",
    "    # x: numpy\n",
    "\n",
    "    x_tensor = torch.from_numpy(x).cuda().float()\n",
    "\n",
    "    bn = torch.nn.BatchNorm1d(input_dim).cuda()\n",
    "    p_linear = torch.nn.Linear(input_dim, output_dim).cuda()\n",
    "    x_tensor = bn(x_tensor)\n",
    "    p = p_linear(x_tensor)\n",
    "    p = torch.sigmoid(p).cpu().detach().numpy().reshape(-1)\n",
    "    return p\n",
    "p_list = np.array([])\n",
    "all_index = np.arange(num_sample)\n",
    "total_batch = 100\n",
    "batch_size = num_sample // total_batch\n",
    "for i in range(total_batch):\n",
    "    torch.cuda.empty_cache()\n",
    "    print(\"\\r%s\" % i, end=\"\")\n",
    "    if i == total_batch - 1:\n",
    "        index = all_index[i * batch_size:]\n",
    "    else:\n",
    "        index = all_index[i * batch_size: (i + 1) * batch_size]\n",
    "\n",
    "    p = linear_regression(x[index], const.CATEGORICAL_EMB_SIZE+const.NUMERICAL_EMB_SIZE, 1)\n",
    "    p_list = np.concatenate((p_list, p))"
   ],
   "metadata": {
    "collapsed": false,
    "pycharm": {
     "name": "#%%\n"
    }
   }
  },
  {
   "cell_type": "code",
   "execution_count": 2,
   "outputs": [
    {
     "data": {
      "text/plain": "<Figure size 640x480 with 1 Axes>",
      "image/png": "[encoded data removed]"
     },
     "metadata": {},
     "output_type": "display_data"
    }
   ],
   "source": [
    "import numpy as np\n",
    "import matplotlib.pyplot as plt\n",
    "\n",
    "def softplus(x):\n",
    "    return np.log(1 + np.exp(x))\n",
    "\n",
    "x = np.linspace(-10, 10, 1000)\n",
    "y = (softplus(x))\n",
    "\n",
    "plt.plot(x, y)\n",
    "plt.xlabel('x')\n",
    "plt.ylabel('log(softplus(x))')\n",
    "plt.title('Plot of log(softplus(x))')\n",
    "plt.grid()\n",
    "plt.show()"
   ],
   "metadata": {
    "collapsed": false,
    "pycharm": {
     "name": "#%%\n"
    }
   }
  },
  {
   "cell_type": "code",
   "execution_count": 1,
   "outputs": [
    {
     "name": "stdout",
     "output_type": "stream",
     "text": [
      "(8197520,)\n"
     ]
    }
   ],
   "source": [
    "import numpy as np\n",
    "name = \"criteo\"\n",
    "x_test = np.load(\"../datasets/\" + name + \"/y_test.npy\", allow_pickle=True)\n",
    "print(x_test.shape)"
   ],
   "metadata": {
    "collapsed": false,
    "pycharm": {
     "name": "#%%\n"
    }
   }
  },
  {
   "cell_type": "code",
   "execution_count": null,
   "outputs": [],
   "source": [],
   "metadata": {
    "collapsed": false,
    "pycharm": {
     "name": "#%%\n"
    }
   }
  }
 ],
 "metadata": {
  "kernelspec": {
   "display_name": "Python 3",
   "language": "python",
   "name": "python3"
  },
  "language_info": {
   "codemirror_mode": {
    "name": "ipython",
    "version": 2
   },
   "file_extension": ".py",
   "mimetype": "text/x-python",
   "name": "python",
   "nbconvert_exporter": "python",
   "pygments_lexer": "ipython2",
   "version": "2.7.6"
  }
 },
 "nbformat": 4,
 "nbformat_minor": 0
}